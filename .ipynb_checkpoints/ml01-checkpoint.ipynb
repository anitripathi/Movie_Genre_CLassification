{
 "cells": [
  {
   "cell_type": "code",
   "execution_count": null,
   "id": "cef59f7b-b930-433b-8174-1baae8d04c23",
   "metadata": {},
   "outputs": [],
   "source": []
  },
  {
   "cell_type": "code",
   "execution_count": null,
   "id": "3c579930-09c8-49f3-9972-847a94c02182",
   "metadata": {},
   "outputs": [],
   "source": []
  },
  {
   "cell_type": "code",
   "execution_count": 5,
   "id": "1c02156f-13ce-4601-8c2d-7e87835862d8",
   "metadata": {},
   "outputs": [
    {
     "data": {
      "text/plain": [
       "['.ipynb_checkpoints',\n",
       " 'description.txt',\n",
       " 'ml01.ipynb',\n",
       " 'test_data.txt',\n",
       " 'test_data_solution.txt',\n",
       " 'train_data.txt']"
      ]
     },
     "execution_count": 5,
     "metadata": {},
     "output_type": "execute_result"
    }
   ],
   "source": [
    "import os\n",
    "os.listdir()"
   ]
  },
  {
   "cell_type": "code",
   "execution_count": null,
   "id": "787d4f9a-02ba-4a6a-818f-f548130889ad",
   "metadata": {},
   "outputs": [],
   "source": []
  },
  {
   "cell_type": "code",
   "execution_count": 6,
   "id": "11cbd709-1058-4b87-bf14-03b1a452724a",
   "metadata": {},
   "outputs": [
    {
     "data": {
      "text/html": [
       "<div>\n",
       "<style scoped>\n",
       "    .dataframe tbody tr th:only-of-type {\n",
       "        vertical-align: middle;\n",
       "    }\n",
       "\n",
       "    .dataframe tbody tr th {\n",
       "        vertical-align: top;\n",
       "    }\n",
       "\n",
       "    .dataframe thead th {\n",
       "        text-align: right;\n",
       "    }\n",
       "</style>\n",
       "<table border=\"1\" class=\"dataframe\">\n",
       "  <thead>\n",
       "    <tr style=\"text-align: right;\">\n",
       "      <th></th>\n",
       "      <th>Train data:</th>\n",
       "    </tr>\n",
       "  </thead>\n",
       "  <tbody>\n",
       "    <tr>\n",
       "      <th>0</th>\n",
       "      <td>ID ::: TITLE ::: GENRE ::: DESCRIPTION</td>\n",
       "    </tr>\n",
       "    <tr>\n",
       "      <th>1</th>\n",
       "      <td>ID ::: TITLE ::: GENRE ::: DESCRIPTION</td>\n",
       "    </tr>\n",
       "    <tr>\n",
       "      <th>2</th>\n",
       "      <td>ID ::: TITLE ::: GENRE ::: DESCRIPTION</td>\n",
       "    </tr>\n",
       "    <tr>\n",
       "      <th>3</th>\n",
       "      <td>ID ::: TITLE ::: GENRE ::: DESCRIPTION</td>\n",
       "    </tr>\n",
       "    <tr>\n",
       "      <th>4</th>\n",
       "      <td>Test data:</td>\n",
       "    </tr>\n",
       "    <tr>\n",
       "      <th>5</th>\n",
       "      <td>ID ::: TITLE ::: DESCRIPTION</td>\n",
       "    </tr>\n",
       "    <tr>\n",
       "      <th>6</th>\n",
       "      <td>ID ::: TITLE ::: DESCRIPTION</td>\n",
       "    </tr>\n",
       "    <tr>\n",
       "      <th>7</th>\n",
       "      <td>ID ::: TITLE ::: DESCRIPTION</td>\n",
       "    </tr>\n",
       "    <tr>\n",
       "      <th>8</th>\n",
       "      <td>ID ::: TITLE ::: DESCRIPTION</td>\n",
       "    </tr>\n",
       "    <tr>\n",
       "      <th>9</th>\n",
       "      <td>Source:</td>\n",
       "    </tr>\n",
       "    <tr>\n",
       "      <th>10</th>\n",
       "      <td>ftp://ftp.fu-berlin.de/pub/misc/movies/database/</td>\n",
       "    </tr>\n",
       "  </tbody>\n",
       "</table>\n",
       "</div>"
      ],
      "text/plain": [
       "                                         Train data:\n",
       "0             ID ::: TITLE ::: GENRE ::: DESCRIPTION\n",
       "1             ID ::: TITLE ::: GENRE ::: DESCRIPTION\n",
       "2             ID ::: TITLE ::: GENRE ::: DESCRIPTION\n",
       "3             ID ::: TITLE ::: GENRE ::: DESCRIPTION\n",
       "4                                         Test data:\n",
       "5                       ID ::: TITLE ::: DESCRIPTION\n",
       "6                       ID ::: TITLE ::: DESCRIPTION\n",
       "7                       ID ::: TITLE ::: DESCRIPTION\n",
       "8                       ID ::: TITLE ::: DESCRIPTION\n",
       "9                                            Source:\n",
       "10  ftp://ftp.fu-berlin.de/pub/misc/movies/database/"
      ]
     },
     "execution_count": 6,
     "metadata": {},
     "output_type": "execute_result"
    }
   ],
   "source": [
    "# Display data \n",
    "\n",
    "import pandas as pd\n",
    "data = pd.read_csv(\"description.txt\")\n",
    "data"
   ]
  },
  {
   "cell_type": "code",
   "execution_count": 7,
   "id": "14d83922-50cc-4874-8a6f-e9a492997736",
   "metadata": {},
   "outputs": [],
   "source": [
    "# for training data\n",
    "\n",
    "import pandas as pd\n",
    "\n",
    "def load_data(file_path):\n",
    "    with open(file_path, 'r', encoding='utf-8') as f:\n",
    "        data = f.readlines()\n",
    "\n",
    "    # Split by ':::'\n",
    "    data = [line.strip().split(':::') for line in data if len(line.strip().split(':::')) == 4]\n",
    "\n",
    "    # Convert to DataFrame\n",
    "    df = pd.DataFrame(data, columns=['id', 'title', 'genre', 'description'])\n",
    "    return df\n"
   ]
  },
  {
   "cell_type": "code",
   "execution_count": 8,
   "id": "a1a10156-5706-4051-9945-31e09573b90f",
   "metadata": {},
   "outputs": [
    {
     "name": "stdout",
     "output_type": "stream",
     "text": [
      "   id                               title       genre  \\\n",
      "0  1        Oscar et la dame rose (2009)       drama    \n",
      "1  2                        Cupid (1997)    thriller    \n",
      "2  3    Young, Wild and Wonderful (1980)       adult    \n",
      "3  4               The Secret Sin (1915)       drama    \n",
      "4  5              The Unrecovered (2007)       drama    \n",
      "\n",
      "                                         description  \n",
      "0   Listening in to a conversation between his do...  \n",
      "1   A brother and sister with a past incestuous r...  \n",
      "2   As the bus empties the students for their fie...  \n",
      "3   To help their unemployed father make ends mee...  \n",
      "4   The film's title refers not only to the un-re...  \n"
     ]
    }
   ],
   "source": [
    "# To observe the dataset in dataframes\n",
    "\n",
    "train_df = load_data('train_data.txt')\n",
    "print(train_df.head())  # See the first 5 rows\n",
    "\n"
   ]
  },
  {
   "cell_type": "code",
   "execution_count": null,
   "id": "5c0bc381-6c87-4b31-ab7c-77cbe0bef59b",
   "metadata": {},
   "outputs": [],
   "source": []
  },
  {
   "cell_type": "code",
   "execution_count": 9,
   "id": "d2ce35c2-560e-4c0f-b409-88dd5177014b",
   "metadata": {},
   "outputs": [],
   "source": [
    "# for testing data \n",
    "\n",
    "def load_data(file_path):\n",
    "    with open(file_path, 'r', encoding='utf-8') as f:\n",
    "        data = f.readlines()\n",
    "\n",
    "    # Split by ':::'\n",
    "    data = [line.strip().split(':::') for line in data if len(line.strip().split(':::')) == 3]\n",
    "\n",
    "    # Convert to DataFrame\n",
    "    df = pd.DataFrame(data, columns=['id', 'title', 'description'])\n",
    "    return df\n"
   ]
  },
  {
   "cell_type": "code",
   "execution_count": 10,
   "id": "e0427560-554e-479e-b4ad-dcaa24712ad9",
   "metadata": {},
   "outputs": [
    {
     "name": "stdout",
     "output_type": "stream",
     "text": [
      "   id                          title  \\\n",
      "0  1           Edgar's Lunch (1998)    \n",
      "1  2       La guerra de papá (1977)    \n",
      "2  3    Off the Beaten Track (2010)    \n",
      "3  4         Meu Amigo Hindu (2015)    \n",
      "4  5              Er nu zhai (1955)    \n",
      "\n",
      "                                         description  \n",
      "0   L.R. Brane loves his life - his car, his apar...  \n",
      "1   Spain, March 1964: Quico is a very naughty ch...  \n",
      "2   One year in the life of Albin and his family ...  \n",
      "3   His father has died, he hasn't spoken with hi...  \n",
      "4   Before he was known internationally as a mart...  \n"
     ]
    }
   ],
   "source": [
    "test_df = load_data('test_data.txt')\n",
    "print(test_df.head())"
   ]
  },
  {
   "cell_type": "code",
   "execution_count": null,
   "id": "02a93ace-1459-4814-8277-a4d4ed661369",
   "metadata": {},
   "outputs": [],
   "source": []
  },
  {
   "cell_type": "code",
   "execution_count": 11,
   "id": "d539d10d-955b-4ebf-83cd-6d489c5810d1",
   "metadata": {},
   "outputs": [],
   "source": [
    "# For test_data_solution\n",
    "\n",
    "import pandas as pd\n",
    "\n",
    "def load_solution_data(filepath):\n",
    "    \"\"\"\n",
    "    Loads test_data_solution.txt with full info (id, title, genre, description).\n",
    "    Returns a DataFrame with columns: id, title, genre, description.\n",
    "    \"\"\"\n",
    "    data = []\n",
    "    with open(filepath, 'r', encoding='utf-8') as f:\n",
    "        for line in f:\n",
    "            parts = line.strip().split(\":::\")\n",
    "            if len(parts) == 4:\n",
    "                movie_id = parts[0].strip()\n",
    "                title = parts[1].strip()\n",
    "                genre = parts[2].strip()\n",
    "                description = parts[3].strip()\n",
    "                data.append((movie_id, title, genre, description))\n",
    "    df = pd.DataFrame(data, columns=[\"id\", \"title\", \"genre\", \"description\"])\n",
    "    return df\n",
    "\n"
   ]
  },
  {
   "cell_type": "code",
   "execution_count": 12,
   "id": "4079abd7-c880-4c6a-9190-330b5d3dcb60",
   "metadata": {},
   "outputs": [
    {
     "name": "stdout",
     "output_type": "stream",
     "text": [
      "  id                        title        genre  \\\n",
      "0  1         Edgar's Lunch (1998)     thriller   \n",
      "1  2     La guerra de papá (1977)       comedy   \n",
      "2  3  Off the Beaten Track (2010)  documentary   \n",
      "3  4       Meu Amigo Hindu (2015)        drama   \n",
      "4  5            Er nu zhai (1955)        drama   \n",
      "\n",
      "                                         description  \n",
      "0  L.R. Brane loves his life - his car, his apart...  \n",
      "1  Spain, March 1964: Quico is a very naughty chi...  \n",
      "2  One year in the life of Albin and his family o...  \n",
      "3  His father has died, he hasn't spoken with his...  \n",
      "4  Before he was known internationally as a marti...  \n"
     ]
    }
   ],
   "source": [
    "df_solution = load_solution_data(\"test_data_solution.txt\")\n",
    "print(df_solution.head())\n"
   ]
  },
  {
   "cell_type": "code",
   "execution_count": null,
   "id": "4cea5cc2-d150-4a3a-ba09-a84fafe9c486",
   "metadata": {},
   "outputs": [],
   "source": []
  },
  {
   "cell_type": "code",
   "execution_count": null,
   "id": "a09e93f8-41d8-42f4-8df3-7bf04ac3a97c",
   "metadata": {},
   "outputs": [],
   "source": []
  },
  {
   "cell_type": "markdown",
   "id": "59ad3af8-f0a6-45e6-bb15-4c76faf01627",
   "metadata": {},
   "source": [
    "# training data"
   ]
  },
  {
   "cell_type": "code",
   "execution_count": 13,
   "id": "82d81573-618b-4ebe-ad1a-a51e2eef2ec5",
   "metadata": {},
   "outputs": [
    {
     "name": "stdout",
     "output_type": "stream",
     "text": [
      "Train Data:\n"
     ]
    },
    {
     "data": {
      "text/html": [
       "<div>\n",
       "<style scoped>\n",
       "    .dataframe tbody tr th:only-of-type {\n",
       "        vertical-align: middle;\n",
       "    }\n",
       "\n",
       "    .dataframe tbody tr th {\n",
       "        vertical-align: top;\n",
       "    }\n",
       "\n",
       "    .dataframe thead th {\n",
       "        text-align: right;\n",
       "    }\n",
       "</style>\n",
       "<table border=\"1\" class=\"dataframe\">\n",
       "  <thead>\n",
       "    <tr style=\"text-align: right;\">\n",
       "      <th></th>\n",
       "      <th>id</th>\n",
       "      <th>title</th>\n",
       "      <th>genre</th>\n",
       "      <th>description</th>\n",
       "    </tr>\n",
       "  </thead>\n",
       "  <tbody>\n",
       "    <tr>\n",
       "      <th>0</th>\n",
       "      <td>1</td>\n",
       "      <td>Oscar et la dame rose (2009)</td>\n",
       "      <td>drama</td>\n",
       "      <td>Listening in to a conversation between his do...</td>\n",
       "    </tr>\n",
       "    <tr>\n",
       "      <th>1</th>\n",
       "      <td>2</td>\n",
       "      <td>Cupid (1997)</td>\n",
       "      <td>thriller</td>\n",
       "      <td>A brother and sister with a past incestuous r...</td>\n",
       "    </tr>\n",
       "    <tr>\n",
       "      <th>2</th>\n",
       "      <td>3</td>\n",
       "      <td>Young, Wild and Wonderful (1980)</td>\n",
       "      <td>adult</td>\n",
       "      <td>As the bus empties the students for their fie...</td>\n",
       "    </tr>\n",
       "    <tr>\n",
       "      <th>3</th>\n",
       "      <td>4</td>\n",
       "      <td>The Secret Sin (1915)</td>\n",
       "      <td>drama</td>\n",
       "      <td>To help their unemployed father make ends mee...</td>\n",
       "    </tr>\n",
       "    <tr>\n",
       "      <th>4</th>\n",
       "      <td>5</td>\n",
       "      <td>The Unrecovered (2007)</td>\n",
       "      <td>drama</td>\n",
       "      <td>The film's title refers not only to the un-re...</td>\n",
       "    </tr>\n",
       "    <tr>\n",
       "      <th>...</th>\n",
       "      <td>...</td>\n",
       "      <td>...</td>\n",
       "      <td>...</td>\n",
       "      <td>...</td>\n",
       "    </tr>\n",
       "    <tr>\n",
       "      <th>54209</th>\n",
       "      <td>54210</td>\n",
       "      <td>\"Bonino\" (1953)</td>\n",
       "      <td>comedy</td>\n",
       "      <td>This short-lived NBC live sitcom centered on ...</td>\n",
       "    </tr>\n",
       "    <tr>\n",
       "      <th>54210</th>\n",
       "      <td>54211</td>\n",
       "      <td>Dead Girls Don't Cry (????)</td>\n",
       "      <td>horror</td>\n",
       "      <td>The NEXT Generation of EXPLOITATION. The sist...</td>\n",
       "    </tr>\n",
       "    <tr>\n",
       "      <th>54211</th>\n",
       "      <td>54212</td>\n",
       "      <td>Ronald Goedemondt: Ze bestaan echt (2008)</td>\n",
       "      <td>documentary</td>\n",
       "      <td>Ze bestaan echt, is a stand-up comedy about g...</td>\n",
       "    </tr>\n",
       "    <tr>\n",
       "      <th>54212</th>\n",
       "      <td>54213</td>\n",
       "      <td>Make Your Own Bed (1944)</td>\n",
       "      <td>comedy</td>\n",
       "      <td>Walter and Vivian live in the country and hav...</td>\n",
       "    </tr>\n",
       "    <tr>\n",
       "      <th>54213</th>\n",
       "      <td>54214</td>\n",
       "      <td>Nature's Fury: Storm of the Century (2006)</td>\n",
       "      <td>history</td>\n",
       "      <td>On Labor Day Weekend, 1935, the most intense ...</td>\n",
       "    </tr>\n",
       "  </tbody>\n",
       "</table>\n",
       "<p>54214 rows × 4 columns</p>\n",
       "</div>"
      ],
      "text/plain": [
       "           id                                         title          genre  \\\n",
       "0          1                  Oscar et la dame rose (2009)          drama    \n",
       "1          2                                  Cupid (1997)       thriller    \n",
       "2          3              Young, Wild and Wonderful (1980)          adult    \n",
       "3          4                         The Secret Sin (1915)          drama    \n",
       "4          5                        The Unrecovered (2007)          drama    \n",
       "...       ...                                           ...            ...   \n",
       "54209  54210                               \"Bonino\" (1953)         comedy    \n",
       "54210  54211                   Dead Girls Don't Cry (????)         horror    \n",
       "54211  54212     Ronald Goedemondt: Ze bestaan echt (2008)    documentary    \n",
       "54212  54213                      Make Your Own Bed (1944)         comedy    \n",
       "54213  54214    Nature's Fury: Storm of the Century (2006)        history    \n",
       "\n",
       "                                             description  \n",
       "0       Listening in to a conversation between his do...  \n",
       "1       A brother and sister with a past incestuous r...  \n",
       "2       As the bus empties the students for their fie...  \n",
       "3       To help their unemployed father make ends mee...  \n",
       "4       The film's title refers not only to the un-re...  \n",
       "...                                                  ...  \n",
       "54209   This short-lived NBC live sitcom centered on ...  \n",
       "54210   The NEXT Generation of EXPLOITATION. The sist...  \n",
       "54211   Ze bestaan echt, is a stand-up comedy about g...  \n",
       "54212   Walter and Vivian live in the country and hav...  \n",
       "54213   On Labor Day Weekend, 1935, the most intense ...  \n",
       "\n",
       "[54214 rows x 4 columns]"
      ]
     },
     "execution_count": 13,
     "metadata": {},
     "output_type": "execute_result"
    }
   ],
   "source": [
    "\n",
    "print(\"Train Data:\")\n",
    "train_df"
   ]
  },
  {
   "cell_type": "code",
   "execution_count": null,
   "id": "f4cc2cb0-be6a-44f8-ad23-b05fe8f3e516",
   "metadata": {},
   "outputs": [],
   "source": []
  },
  {
   "cell_type": "markdown",
   "id": "b49aa10c-dd13-4ef8-ac3d-d2a8f36ffa41",
   "metadata": {},
   "source": [
    "# FEATURE EXTRACTION"
   ]
  },
  {
   "cell_type": "code",
   "execution_count": 14,
   "id": "adfa7230-07d4-4244-a84d-005360c4ade5",
   "metadata": {},
   "outputs": [
    {
     "name": "stdout",
     "output_type": "stream",
     "text": [
      "Training data shape: (54214, 10000)\n",
      "Test data shape: (54200, 10000)\n"
     ]
    }
   ],
   "source": [
    "\n",
    "\n",
    "# Import the correct class (Typo fixed: TfidfVectorizer, not TfidVectorizer)\n",
    "from sklearn.feature_extraction.text import TfidfVectorizer  \n",
    "\n",
    "# Create a TF-IDF vectorizer object\n",
    "# max_features = 10000 means it will only keep the 10,000 most frequent words\n",
    "vectorizer = TfidfVectorizer(max_features=10000)\n",
    "\n",
    "# Fit the vectorizer on training data and transform it to a matrix\n",
    "# This turns each description into a vector of numbers\n",
    "x_train_tfidf = vectorizer.fit_transform(train_df[\"description\"])\n",
    "\n",
    "# Use the same vectorizer to transform the test data\n",
    "# IMPORTANT: We don't fit again, only transform — to keep same word meanings\n",
    "x_test_tfidf = vectorizer.transform(test_df[\"description\"])\n",
    "\n",
    "# Print the shapes to see how many samples and features (words) we have\n",
    "print(f\"Training data shape: {x_train_tfidf.shape}\") \n",
    "print(f\"Test data shape: {x_test_tfidf.shape}\")        \n"
   ]
  },
  {
   "cell_type": "code",
   "execution_count": null,
   "id": "bcfbdc36-a201-40a4-8fa2-ef7f7c5eb2a0",
   "metadata": {},
   "outputs": [],
   "source": []
  },
  {
   "cell_type": "markdown",
   "id": "3ea34a41-b955-440f-9b53-017f72c31ba5",
   "metadata": {},
   "source": [
    "# ENCODING THE TARGET COLUMNS"
   ]
  },
  {
   "cell_type": "code",
   "execution_count": 15,
   "id": "670b9480-03b5-493b-b7c5-e755d7522c1b",
   "metadata": {},
   "outputs": [
    {
     "name": "stdout",
     "output_type": "stream",
     "text": [
      "Unique genres in the training data: [' action ' ' adult ' ' adventure ' ' animation ' ' biography ' ' comedy '\n",
      " ' crime ' ' documentary ' ' drama ' ' family ' ' fantasy ' ' game-show '\n",
      " ' history ' ' horror ' ' music ' ' musical ' ' mystery ' ' news '\n",
      " ' reality-tv ' ' romance ' ' sci-fi ' ' short ' ' sport ' ' talk-show '\n",
      " ' thriller ' ' war ' ' western ']\n"
     ]
    }
   ],
   "source": [
    "from sklearn.preprocessing import LabelEncoder\n",
    "\n",
    "label_encoder = LabelEncoder()\n",
    "y_train = label_encoder.fit_transform(train_df['genre'])\n",
    "\n",
    "print(f\"Unique genres in the training data: {label_encoder.classes_}\")\n"
   ]
  },
  {
   "cell_type": "code",
   "execution_count": null,
   "id": "fac1815f-8648-4297-a7bb-1f0e6f091315",
   "metadata": {},
   "outputs": [],
   "source": []
  },
  {
   "cell_type": "code",
   "execution_count": null,
   "id": "b0d262c7-6b98-4c17-bc8f-19f530c8483d",
   "metadata": {},
   "outputs": [],
   "source": []
  },
  {
   "cell_type": "code",
   "execution_count": 32,
   "id": "46722645-f1fe-4411-857c-24dfbdb16805",
   "metadata": {},
   "outputs": [
    {
     "data": {
      "image/png": "[encoded data removed]",
      "text/plain": [
       "<Figure size 1200x600 with 1 Axes>"
      ]
     },
     "metadata": {},
     "output_type": "display_data"
    }
   ],
   "source": [
    "import seaborn as sns\n",
    "import matplotlib.pyplot as plt\n",
    "\n",
    "plt.figure(figsize=(12,6))\n",
    "sns.countplot(y='genre', data=train_df, order=train_df['genre'].value_counts().index)\n",
    "plt.title(\"Distribution of Movie Genres in Training Data\")\n",
    "plt.xlabel(\"Count\")\n",
    "plt.ylabel(\"Genre\")\n",
    "plt.tight_layout()\n",
    "plt.show()\n"
   ]
  },
  {
   "cell_type": "code",
   "execution_count": null,
   "id": "799e19b2-9e4a-4691-b267-61cb330c9334",
   "metadata": {},
   "outputs": [],
   "source": []
  },
  {
   "cell_type": "code",
   "execution_count": null,
   "id": "89f8958e-3fc8-4d72-888f-c5aac9c50f2d",
   "metadata": {},
   "outputs": [],
   "source": []
  },
  {
   "cell_type": "code",
   "execution_count": 33,
   "id": "530d12d4-b2dc-46cd-ae5f-bd34b2f31f11",
   "metadata": {},
   "outputs": [
    {
     "data": {
      "image/png": "[encoded data removed]",
      "text/plain": [
       "<Figure size 1200x600 with 1 Axes>"
      ]
     },
     "metadata": {},
     "output_type": "display_data"
    }
   ],
   "source": [
    "import numpy as np\n",
    "\n",
    "# Sum TF-IDF scores for each word\n",
    "feature_array = np.array(vectorizer.get_feature_names_out())\n",
    "tfidf_scores = x_train_tfidf.sum(axis=0).A1\n",
    "top_n_idx = np.argsort(tfidf_scores)[::-1][:20]\n",
    "\n",
    "plt.figure(figsize=(12,6))\n",
    "sns.barplot(x=tfidf_scores[top_n_idx], y=feature_array[top_n_idx])\n",
    "plt.title(\"Top 20 Words by TF-IDF Score\")\n",
    "plt.xlabel(\"TF-IDF Score\")\n",
    "plt.ylabel(\"Word\")\n",
    "plt.tight_layout()\n",
    "plt.show()\n"
   ]
  },
  {
   "cell_type": "code",
   "execution_count": null,
   "id": "df8f0622-44b0-4c2c-a72c-6f08d34aeda5",
   "metadata": {},
   "outputs": [],
   "source": []
  },
  {
   "cell_type": "code",
   "execution_count": 36,
   "id": "00918cd5-835a-447a-be7e-990f5009793a",
   "metadata": {},
   "outputs": [],
   "source": [
    "merged_df['genre'] = merged_df['genre'].str.strip().str.lower()\n",
    "merged_df['Predicted_Genre'] = merged_df['Predicted_Genre'].str.strip().str.lower()\n"
   ]
  },
  {
   "cell_type": "markdown",
   "id": "68a61242-bee0-4526-94db-063964ae50e2",
   "metadata": {},
   "source": [
    "# BUILDING MODEL"
   ]
  },
  {
   "cell_type": "code",
   "execution_count": 16,
   "id": "563912df-11eb-40aa-9f49-528c0a3d5faa",
   "metadata": {},
   "outputs": [
    {
     "data": {
      "text/html": [
       "<div>\n",
       "<style scoped>\n",
       "    .dataframe tbody tr th:only-of-type {\n",
       "        vertical-align: middle;\n",
       "    }\n",
       "\n",
       "    .dataframe tbody tr th {\n",
       "        vertical-align: top;\n",
       "    }\n",
       "\n",
       "    .dataframe thead th {\n",
       "        text-align: right;\n",
       "    }\n",
       "</style>\n",
       "<table border=\"1\" class=\"dataframe\">\n",
       "  <thead>\n",
       "    <tr style=\"text-align: right;\">\n",
       "      <th></th>\n",
       "      <th>title</th>\n",
       "      <th>Predicted_Genres</th>\n",
       "    </tr>\n",
       "  </thead>\n",
       "  <tbody>\n",
       "    <tr>\n",
       "      <th>0</th>\n",
       "      <td>Edgar's Lunch (1998)</td>\n",
       "      <td>drama</td>\n",
       "    </tr>\n",
       "    <tr>\n",
       "      <th>1</th>\n",
       "      <td>La guerra de papá (1977)</td>\n",
       "      <td>drama</td>\n",
       "    </tr>\n",
       "    <tr>\n",
       "      <th>2</th>\n",
       "      <td>Off the Beaten Track (2010)</td>\n",
       "      <td>documentary</td>\n",
       "    </tr>\n",
       "    <tr>\n",
       "      <th>3</th>\n",
       "      <td>Meu Amigo Hindu (2015)</td>\n",
       "      <td>drama</td>\n",
       "    </tr>\n",
       "    <tr>\n",
       "      <th>4</th>\n",
       "      <td>Er nu zhai (1955)</td>\n",
       "      <td>drama</td>\n",
       "    </tr>\n",
       "    <tr>\n",
       "      <th>...</th>\n",
       "      <td>...</td>\n",
       "      <td>...</td>\n",
       "    </tr>\n",
       "    <tr>\n",
       "      <th>54195</th>\n",
       "      <td>\"Tales of Light &amp; Dark\" (2013)</td>\n",
       "      <td>drama</td>\n",
       "    </tr>\n",
       "    <tr>\n",
       "      <th>54196</th>\n",
       "      <td>Der letzte Mohikaner (1965)</td>\n",
       "      <td>drama</td>\n",
       "    </tr>\n",
       "    <tr>\n",
       "      <th>54197</th>\n",
       "      <td>Oliver Twink (2007)</td>\n",
       "      <td>comedy</td>\n",
       "    </tr>\n",
       "    <tr>\n",
       "      <th>54198</th>\n",
       "      <td>Slipstream (1973)</td>\n",
       "      <td>drama</td>\n",
       "    </tr>\n",
       "    <tr>\n",
       "      <th>54199</th>\n",
       "      <td>Curitiba Zero Grau (2010)</td>\n",
       "      <td>documentary</td>\n",
       "    </tr>\n",
       "  </tbody>\n",
       "</table>\n",
       "<p>54200 rows × 2 columns</p>\n",
       "</div>"
      ],
      "text/plain": [
       "                                  title Predicted_Genres\n",
       "0                 Edgar's Lunch (1998)            drama \n",
       "1             La guerra de papá (1977)            drama \n",
       "2          Off the Beaten Track (2010)      documentary \n",
       "3               Meu Amigo Hindu (2015)            drama \n",
       "4                    Er nu zhai (1955)            drama \n",
       "...                                 ...              ...\n",
       "54195   \"Tales of Light & Dark\" (2013)            drama \n",
       "54196      Der letzte Mohikaner (1965)            drama \n",
       "54197              Oliver Twink (2007)           comedy \n",
       "54198                Slipstream (1973)            drama \n",
       "54199        Curitiba Zero Grau (2010)      documentary \n",
       "\n",
       "[54200 rows x 2 columns]"
      ]
     },
     "execution_count": 16,
     "metadata": {},
     "output_type": "execute_result"
    }
   ],
   "source": [
    "from sklearn.linear_model import LogisticRegression\n",
    "\n",
    "# Initialize and train the logistic regression model\n",
    "lr_model = LogisticRegression(max_iter=200)\n",
    "lr_model.fit(x_train_tfidf, y_train)\n",
    "\n",
    "# Predict on test data\n",
    "y_pred = lr_model.predict(x_test_tfidf)\n",
    "\n",
    "# Convert numeric predictions back to genre names\n",
    "predicted_genres = label_encoder.inverse_transform(y_pred)\n",
    "\n",
    "# Add predictions to the test DataFrame\n",
    "test_df['Predicted_Genres'] = predicted_genres\n",
    "\n",
    "# Display title and predicted genre\n",
    "test_df[['title', 'Predicted_Genres']]\n"
   ]
  },
  {
   "cell_type": "code",
   "execution_count": 17,
   "id": "72d4bc88-b8c3-4e81-a4c5-bfca365894ab",
   "metadata": {},
   "outputs": [],
   "source": [
    "test_df['id'] = test_df['id'].str.strip()\n",
    "df_solution['id'] = df_solution['id'].str.strip()\n"
   ]
  },
  {
   "cell_type": "code",
   "execution_count": 18,
   "id": "a4dbea20-5265-45d2-abf9-99c6109db133",
   "metadata": {},
   "outputs": [
    {
     "name": "stdout",
     "output_type": "stream",
     "text": [
      "  id        genre Predicted_Genre\n",
      "0  1     thriller          drama \n",
      "1  2       comedy          drama \n",
      "2  3  documentary    documentary \n",
      "3  4        drama          drama \n",
      "4  5        drama          drama \n"
     ]
    }
   ],
   "source": [
    "# Add predictions to the test DataFrame\n",
    "test_df['Predicted_Genre'] = predicted_genres  \n",
    "\n",
    "# Merge actual genres from df_solution with predicted genres from test_df on 'id'\n",
    "merged_df = pd.merge(\n",
    "    df_solution[['id', 'genre']],\n",
    "    test_df[['id', 'Predicted_Genre']],\n",
    "    on='id'\n",
    ")\n",
    "\n",
    "print(merged_df.head())  # or just merged_df\n",
    "\n"
   ]
  },
  {
   "cell_type": "code",
   "execution_count": null,
   "id": "9e817cfd-8764-4239-b0ad-047885d4fae0",
   "metadata": {},
   "outputs": [],
   "source": []
  },
  {
   "cell_type": "code",
   "execution_count": null,
   "id": "0883383c-59af-4d5c-950c-916ec262d6b0",
   "metadata": {},
   "outputs": [],
   "source": []
  },
  {
   "cell_type": "code",
   "execution_count": null,
   "id": "015896a8-7210-446a-aa42-cb8e7809d32b",
   "metadata": {},
   "outputs": [],
   "source": []
  },
  {
   "cell_type": "markdown",
   "id": "9825fff0-a07e-43f3-8869-d15d033a420e",
   "metadata": {},
   "source": [
    "# Evaluation of the model"
   ]
  },
  {
   "cell_type": "code",
   "execution_count": 19,
   "id": "5718d952-8310-42f1-ae5c-5cb22d963405",
   "metadata": {},
   "outputs": [],
   "source": [
    "from sklearn.metrics import accuracy_score, classification_report, confusion_matrix\n"
   ]
  },
  {
   "cell_type": "code",
   "execution_count": 20,
   "id": "cab80b1a-4622-4a7d-8fb6-9a3cdd76a35b",
   "metadata": {},
   "outputs": [],
   "source": [
    "y_true = merged_df['genre']\n",
    "y_pred = merged_df['Predicted_Genre']\n"
   ]
  },
  {
   "cell_type": "code",
   "execution_count": 21,
   "id": "3ef647cf-4a1e-475a-a42d-a2dade09f132",
   "metadata": {},
   "outputs": [
    {
     "name": "stdout",
     "output_type": "stream",
     "text": [
      "Accuracy: 0.0000\n"
     ]
    }
   ],
   "source": [
    "accuracy = accuracy_score(y_true, y_pred)\n",
    "print(f\"Accuracy: {accuracy:.4f}\")\n"
   ]
  },
  {
   "cell_type": "code",
   "execution_count": 22,
   "id": "69a94944-4047-4d48-9600-0277694f9e43",
   "metadata": {},
   "outputs": [
    {
     "name": "stdout",
     "output_type": "stream",
     "text": [
      "Classification Report:\n"
     ]
    },
    {
     "name": "stderr",
     "output_type": "stream",
     "text": [
      "C:\\Users\\yashn\\AppData\\Local\\Programs\\Python\\Python312\\Lib\\site-packages\\sklearn\\metrics\\_classification.py:1565: UndefinedMetricWarning: Precision is ill-defined and being set to 0.0 in labels with no predicted samples. Use `zero_division` parameter to control this behavior.\n",
      "  _warn_prf(average, modifier, f\"{metric.capitalize()} is\", len(result))\n",
      "C:\\Users\\yashn\\AppData\\Local\\Programs\\Python\\Python312\\Lib\\site-packages\\sklearn\\metrics\\_classification.py:1565: UndefinedMetricWarning: Recall is ill-defined and being set to 0.0 in labels with no true samples. Use `zero_division` parameter to control this behavior.\n",
      "  _warn_prf(average, modifier, f\"{metric.capitalize()} is\", len(result))\n",
      "C:\\Users\\yashn\\AppData\\Local\\Programs\\Python\\Python312\\Lib\\site-packages\\sklearn\\metrics\\_classification.py:1565: UndefinedMetricWarning: Precision is ill-defined and being set to 0.0 in labels with no predicted samples. Use `zero_division` parameter to control this behavior.\n",
      "  _warn_prf(average, modifier, f\"{metric.capitalize()} is\", len(result))\n",
      "C:\\Users\\yashn\\AppData\\Local\\Programs\\Python\\Python312\\Lib\\site-packages\\sklearn\\metrics\\_classification.py:1565: UndefinedMetricWarning: Recall is ill-defined and being set to 0.0 in labels with no true samples. Use `zero_division` parameter to control this behavior.\n",
      "  _warn_prf(average, modifier, f\"{metric.capitalize()} is\", len(result))\n"
     ]
    },
    {
     "name": "stdout",
     "output_type": "stream",
     "text": [
      "               precision    recall  f1-score   support\n",
      "\n",
      "      action        0.00      0.00      0.00       0.0\n",
      "       adult        0.00      0.00      0.00       0.0\n",
      "   adventure        0.00      0.00      0.00       0.0\n",
      "   animation        0.00      0.00      0.00       0.0\n",
      "      comedy        0.00      0.00      0.00       0.0\n",
      "       crime        0.00      0.00      0.00       0.0\n",
      " documentary        0.00      0.00      0.00       0.0\n",
      "       drama        0.00      0.00      0.00       0.0\n",
      "      family        0.00      0.00      0.00       0.0\n",
      "     fantasy        0.00      0.00      0.00       0.0\n",
      "   game-show        0.00      0.00      0.00       0.0\n",
      "      horror        0.00      0.00      0.00       0.0\n",
      "       music        0.00      0.00      0.00       0.0\n",
      "     musical        0.00      0.00      0.00       0.0\n",
      "     mystery        0.00      0.00      0.00       0.0\n",
      "        news        0.00      0.00      0.00       0.0\n",
      "  reality-tv        0.00      0.00      0.00       0.0\n",
      "     romance        0.00      0.00      0.00       0.0\n",
      "      sci-fi        0.00      0.00      0.00       0.0\n",
      "       short        0.00      0.00      0.00       0.0\n",
      "       sport        0.00      0.00      0.00       0.0\n",
      "   talk-show        0.00      0.00      0.00       0.0\n",
      "    thriller        0.00      0.00      0.00       0.0\n",
      "         war        0.00      0.00      0.00       0.0\n",
      "     western        0.00      0.00      0.00       0.0\n",
      "       action       0.00      0.00      0.00    1314.0\n",
      "        adult       0.00      0.00      0.00     590.0\n",
      "    adventure       0.00      0.00      0.00     775.0\n",
      "    animation       0.00      0.00      0.00     498.0\n",
      "    biography       0.00      0.00      0.00     264.0\n",
      "       comedy       0.00      0.00      0.00    7446.0\n",
      "        crime       0.00      0.00      0.00     505.0\n",
      "  documentary       0.00      0.00      0.00   13096.0\n",
      "        drama       0.00      0.00      0.00   13612.0\n",
      "       family       0.00      0.00      0.00     783.0\n",
      "      fantasy       0.00      0.00      0.00     322.0\n",
      "    game-show       0.00      0.00      0.00     193.0\n",
      "      history       0.00      0.00      0.00     243.0\n",
      "       horror       0.00      0.00      0.00    2204.0\n",
      "        music       0.00      0.00      0.00     731.0\n",
      "      musical       0.00      0.00      0.00     276.0\n",
      "      mystery       0.00      0.00      0.00     318.0\n",
      "         news       0.00      0.00      0.00     181.0\n",
      "   reality-tv       0.00      0.00      0.00     883.0\n",
      "      romance       0.00      0.00      0.00     672.0\n",
      "       sci-fi       0.00      0.00      0.00     646.0\n",
      "        short       0.00      0.00      0.00    5072.0\n",
      "        sport       0.00      0.00      0.00     431.0\n",
      "    talk-show       0.00      0.00      0.00     391.0\n",
      "     thriller       0.00      0.00      0.00    1590.0\n",
      "          war       0.00      0.00      0.00     132.0\n",
      "      western       0.00      0.00      0.00    1032.0\n",
      "\n",
      "     accuracy                           0.00   54200.0\n",
      "    macro avg       0.00      0.00      0.00   54200.0\n",
      " weighted avg       0.00      0.00      0.00   54200.0\n",
      "\n"
     ]
    },
    {
     "name": "stderr",
     "output_type": "stream",
     "text": [
      "C:\\Users\\yashn\\AppData\\Local\\Programs\\Python\\Python312\\Lib\\site-packages\\sklearn\\metrics\\_classification.py:1565: UndefinedMetricWarning: Precision is ill-defined and being set to 0.0 in labels with no predicted samples. Use `zero_division` parameter to control this behavior.\n",
      "  _warn_prf(average, modifier, f\"{metric.capitalize()} is\", len(result))\n",
      "C:\\Users\\yashn\\AppData\\Local\\Programs\\Python\\Python312\\Lib\\site-packages\\sklearn\\metrics\\_classification.py:1565: UndefinedMetricWarning: Recall is ill-defined and being set to 0.0 in labels with no true samples. Use `zero_division` parameter to control this behavior.\n",
      "  _warn_prf(average, modifier, f\"{metric.capitalize()} is\", len(result))\n"
     ]
    }
   ],
   "source": [
    "print(\"Classification Report:\")\n",
    "print(classification_report(y_true, y_pred))\n"
   ]
  },
  {
   "cell_type": "code",
   "execution_count": null,
   "id": "1d1dd2dc-3e12-4c72-9de8-ec6c323edb2e",
   "metadata": {},
   "outputs": [],
   "source": [
    "\n"
   ]
  },
  {
   "cell_type": "code",
   "execution_count": null,
   "id": "b7e14196-7a47-4dcb-868f-89a89558f004",
   "metadata": {},
   "outputs": [],
   "source": []
  },
  {
   "cell_type": "markdown",
   "id": "853ae92e-d377-41d2-a466-d832e8d56b8f",
   "metadata": {},
   "source": [
    "# NAVIE BAYES' MODEL"
   ]
  },
  {
   "cell_type": "code",
   "execution_count": 38,
   "id": "acfd2786-e818-403d-95c4-68c387a173c4",
   "metadata": {},
   "outputs": [],
   "source": [
    "from sklearn.naive_bayes import MultinomialNB\n",
    "nb_model = MultinomialNB()\n",
    "nb_model.fit(x_train_tfidf,y_train)\n",
    "merged_df_nb['genre'] = merged_df_nb['genre'].str.strip().str.lower()\n",
    "merged_df_nb['Predicted_Genre_NB'] = merged_df_nb['Predicted_Genre_NB'].str.strip().str.lower()\n"
   ]
  },
  {
   "cell_type": "code",
   "execution_count": 39,
   "id": "62ac2d88-c8cc-44ff-a836-11da7b6f97d5",
   "metadata": {},
   "outputs": [],
   "source": [
    "y_pred_nb = nb_model.predict(x_test_tfidf)\n",
    "predicted_genres_nb = label_encoder.inverse_transform(y_pred_nb)\n",
    "test_df['Predicted_Genre_NB'] = predicted_genres_nb\n",
    "merged_df_nb = pd.merge(df_solution,test_df[['id','Predicted_Genre_NB']],on='id')"
   ]
  },
  {
   "cell_type": "code",
   "execution_count": null,
   "id": "40a78cc8-7e25-4429-aea0-91a5fab8f3eb",
   "metadata": {},
   "outputs": [],
   "source": []
  },
  {
   "cell_type": "code",
   "execution_count": 40,
   "id": "03f51ddf-d7a1-44df-924f-fbd98870eb4a",
   "metadata": {},
   "outputs": [
    {
     "name": "stdout",
     "output_type": "stream",
     "text": [
      "Naive Bayes ACCURACY: 0.0\n"
     ]
    }
   ],
   "source": [
    "# evaluation for naive model\n",
    "\n",
    "from sklearn.metrics import accuracy_score,classification_report\n",
    "\n",
    "accuracy_NB = accuracy_score(merged_df_nb['genre'],merged_df_nb['Predicted_Genre_NB'])\n",
    "print(f\"Naive Bayes ACCURACY: {accuracy_NB}\")"
   ]
  },
  {
   "cell_type": "code",
   "execution_count": null,
   "id": "7129ecb7-9301-4e04-a4c7-c5cf78539300",
   "metadata": {},
   "outputs": [],
   "source": []
  },
  {
   "cell_type": "code",
   "execution_count": null,
   "id": "3325fe4c-0ea3-4a76-a1e8-26302f867c4d",
   "metadata": {},
   "outputs": [],
   "source": []
  },
  {
   "cell_type": "code",
   "execution_count": null,
   "id": "6e8a7e59-7b5a-4b76-9f90-a9f591904202",
   "metadata": {},
   "outputs": [],
   "source": []
  },
  {
   "cell_type": "code",
   "execution_count": null,
   "id": "67764d92-d748-4936-a723-e9f9337ff7e4",
   "metadata": {},
   "outputs": [],
   "source": []
  },
  {
   "cell_type": "code",
   "execution_count": null,
   "id": "070a1ea7-fd5b-4914-a6ae-de4aa6c0963f",
   "metadata": {},
   "outputs": [],
   "source": []
  },
  {
   "cell_type": "code",
   "execution_count": 35,
   "id": "e68575ac-136d-4ac4-aa57-b89fc5c918fd",
   "metadata": {},
   "outputs": [
    {
     "data": {
      "text/plain": [
       "<Figure size 1000x1000 with 0 Axes>"
      ]
     },
     "metadata": {},
     "output_type": "display_data"
    },
    {
     "data": {
      "image/png": "[encoded data removed]",
      "text/plain": [
       "<Figure size 640x480 with 2 Axes>"
      ]
     },
     "metadata": {},
     "output_type": "display_data"
    }
   ],
   "source": [
    "from sklearn.metrics import confusion_matrix, ConfusionMatrixDisplay\n",
    "\n",
    "# Step 1: Get unique labels that actually appear in the true values\n",
    "actual_labels = merged_df['genre'].unique()\n",
    "\n",
    "# Step 2: Create the confusion matrix with only those labels\n",
    "cm_lr = confusion_matrix(\n",
    "    merged_df['genre'],\n",
    "    merged_df['Predicted_Genre'],\n",
    "    labels=actual_labels  # Only labels actually present\n",
    ")\n",
    "\n",
    "# Step 3: Display\n",
    "disp_lr = ConfusionMatrixDisplay(confusion_matrix=cm_lr, display_labels=actual_labels)\n",
    "plt.figure(figsize=(10,10))\n",
    "disp_lr.plot(xticks_rotation=90, cmap='Blues')\n",
    "plt.title(\"Confusion Matrix - Logistic Regression\")\n",
    "plt.show()\n"
   ]
  },
  {
   "cell_type": "code",
   "execution_count": 28,
   "id": "3074bb8e-9b4c-43b4-81ce-bc00c5d02da9",
   "metadata": {},
   "outputs": [],
   "source": []
  },
  {
   "cell_type": "code",
   "execution_count": null,
   "id": "8774a2e5-1db3-46d3-9739-c47b3b480af6",
   "metadata": {},
   "outputs": [],
   "source": []
  },
  {
   "cell_type": "code",
   "execution_count": 29,
   "id": "914cc6fc-d917-49b6-a875-5f9b06ac8f07",
   "metadata": {},
   "outputs": [
    {
     "name": "stdout",
     "output_type": "stream",
     "text": [
      "Predicted Genres using Logistic Regression:  [' documentary ' ' horror ' ' adventure ' ' drama ' ' comedy ']\n",
      "Predicted Genres using Naive Bayes       :  [' documentary ' ' horror ' ' documentary ' ' drama ' ' drama ']\n",
      "\n",
      "Description: Explosive fight scene in the city streets\n",
      "Naive Bayes Prediction       :  documentary \n",
      "Logistic Regression Prediction:  documentary \n",
      "====================================================================================================\n",
      "Description: A haunted mansion that traps its visitors\n",
      "Naive Bayes Prediction       :  horror \n",
      "Logistic Regression Prediction:  horror \n",
      "====================================================================================================\n",
      "Description: A brave adventurer in search of lost treasure\n",
      "Naive Bayes Prediction       :  documentary \n",
      "Logistic Regression Prediction:  adventure \n",
      "====================================================================================================\n",
      "Description: A forbidden romance in the 1920s\n",
      "Naive Bayes Prediction       :  drama \n",
      "Logistic Regression Prediction:  drama \n",
      "====================================================================================================\n",
      "Description: A daring rescue mission with a love interest\n",
      "Naive Bayes Prediction       :  drama \n",
      "Logistic Regression Prediction:  comedy \n",
      "====================================================================================================\n"
     ]
    }
   ],
   "source": [
    "zoner_description = [\n",
    "    'Explosive fight scene in the city streets',\n",
    "    'A haunted mansion that traps its visitors',\n",
    "    'A brave adventurer in search of lost treasure',\n",
    "    'A forbidden romance in the 1920s',\n",
    "    'A daring rescue mission with a love interest'\n",
    "]\n",
    "\n",
    "# Transform the test descriptions using the trained TF-IDF vectorizer\n",
    "test_data_tfidf = vectorizer.transform(zoner_description)\n",
    "\n",
    "# Predict using Logistic Regression\n",
    "y_pred_lr = lr_model.predict(test_data_tfidf)\n",
    "predicted_genres_lr = label_encoder.inverse_transform(y_pred_lr)\n",
    "\n",
    "# Predict using Naive Bayes\n",
    "y_pred_nb = nb_model.predict(test_data_tfidf)\n",
    "predicted_genres_nb = label_encoder.inverse_transform(y_pred_nb)\n",
    "\n",
    "# Print results\n",
    "print(\"Predicted Genres using Logistic Regression: \", predicted_genres_lr)\n",
    "print(\"Predicted Genres using Naive Bayes       : \", predicted_genres_nb)\n",
    "print()\n",
    "\n",
    "for i, description in enumerate(zoner_description):\n",
    "    print(f\"Description: {description}\")\n",
    "    print(f\"Naive Bayes Prediction       : {predicted_genres_nb[i]}\")\n",
    "    print(f\"Logistic Regression Prediction: {predicted_genres_lr[i]}\")\n",
    "    print(\"=\" * 100)\n"
   ]
  },
  {
   "cell_type": "code",
   "execution_count": null,
   "id": "4a54333b-68d0-4999-8e79-c36c8cd598da",
   "metadata": {},
   "outputs": [],
   "source": []
  },
  {
   "cell_type": "code",
   "execution_count": null,
   "id": "20a13314-5bf2-4a3e-88d8-5a69a68ff865",
   "metadata": {},
   "outputs": [],
   "source": []
  }
 ],
 "metadata": {
  "kernelspec": {
   "display_name": "Python 3 (ipykernel)",
   "language": "python",
   "name": "python3"
  },
  "language_info": {
   "codemirror_mode": {
    "name": "ipython",
    "version": 3
   },
   "file_extension": ".py",
   "mimetype": "text/x-python",
   "name": "python",
   "nbconvert_exporter": "python",
   "pygments_lexer": "ipython3",
   "version": "3.12.0"
  }
 },
 "nbformat": 4,
 "nbformat_minor": 5
}
